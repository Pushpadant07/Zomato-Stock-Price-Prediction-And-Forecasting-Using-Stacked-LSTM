{
  "nbformat": 4,
  "nbformat_minor": 0,
  "metadata": {
    "colab": {
      "name": "Zomato-Stock-Forecasting-Using-Stacked-LSTM",
      "provenance": [],
      "collapsed_sections": []
    },
    "kernelspec": {
      "name": "python3",
      "display_name": "Python 3"
    },
    "language_info": {
      "name": "python"
    }
  },
  "cells": [
    {
      "cell_type": "code",
      "execution_count": 1,
      "metadata": {
        "id": "2ogmmQSnQR70"
      },
      "outputs": [],
      "source": [
        "import pandas as pd\n",
        "import pandas_datareader.data as web\n",
        "import datetime as dt"
      ]
    },
    {
      "cell_type": "markdown",
      "source": [
        "# Data Collecting\n",
        "- For data collection im using \"Yahoo Finance\" from  \"pandas_datareader\" module link-(https://pandas-datareader.readthedocs.io/en/latest/remote_data.html#remote-data-yahoo)\n",
        "- Stock data collected from Zomato.NS company link-(https://finance.yahoo.com/quote/ZOMATO.NS?p=ZOMATO.NS&.tsrc=fin-srch)"
      ],
      "metadata": {
        "id": "XzymZHlOTA3D"
      }
    },
    {
      "cell_type": "code",
      "source": [
        "# df = web.DataReader('ZOMATO.NS', 'yahoo', start='2019-09-10', end='2019-10-09')"
      ],
      "metadata": {
        "id": "oYzlGSwUneo2"
      },
      "execution_count": null,
      "outputs": []
    },
    {
      "cell_type": "markdown",
      "source": [
        "In above line wanted to take data from 2019 to till today but for zomato its avalable only from 2021-07-23 "
      ],
      "metadata": {
        "id": "5mEA5WyiuBmL"
      }
    },
    {
      "cell_type": "code",
      "source": [
        "# df.to_csv('/content/ZOMATO_NS.csv')"
      ],
      "metadata": {
        "id": "Jwq0ax1QlfZU"
      },
      "execution_count": null,
      "outputs": []
    },
    {
      "cell_type": "code",
      "source": [
        "data=pd.read_csv('ZOMATO_NS.csv')\n",
        "data.head()"
      ],
      "metadata": {
        "id": "M70PQMFNZa6K",
        "colab": {
          "base_uri": "https://localhost:8080/",
          "height": 206
        },
        "outputId": "bd662feb-44a2-4fa7-dcb7-e7affdeeb39b"
      },
      "execution_count": 4,
      "outputs": [
        {
          "output_type": "execute_result",
          "data": {
            "text/plain": [
              "         Date        High         Low        Open       Close     Volume  \\\n",
              "0  2021-07-23  138.899994  115.000000  116.000000  126.000000  694895290   \n",
              "1  2021-07-26  143.750000  125.300003  126.349998  140.649994  249723854   \n",
              "2  2021-07-27  147.800003  127.750000  141.699997  132.899994  240341900   \n",
              "3  2021-07-28  135.000000  123.550003  131.000000  131.199997  159793731   \n",
              "4  2021-07-29  144.000000  132.199997  134.949997  141.550003  117973089   \n",
              "\n",
              "    Adj Close  \n",
              "0  126.000000  \n",
              "1  140.649994  \n",
              "2  132.899994  \n",
              "3  131.199997  \n",
              "4  141.550003  "
            ],
            "text/html": [
              "\n",
              "  <div id=\"df-8ae54962-9ce9-4aec-9efe-783286257242\">\n",
              "    <div class=\"colab-df-container\">\n",
              "      <div>\n",
              "<style scoped>\n",
              "    .dataframe tbody tr th:only-of-type {\n",
              "        vertical-align: middle;\n",
              "    }\n",
              "\n",
              "    .dataframe tbody tr th {\n",
              "        vertical-align: top;\n",
              "    }\n",
              "\n",
              "    .dataframe thead th {\n",
              "        text-align: right;\n",
              "    }\n",
              "</style>\n",
              "<table border=\"1\" class=\"dataframe\">\n",
              "  <thead>\n",
              "    <tr style=\"text-align: right;\">\n",
              "      <th></th>\n",
              "      <th>Date</th>\n",
              "      <th>High</th>\n",
              "      <th>Low</th>\n",
              "      <th>Open</th>\n",
              "      <th>Close</th>\n",
              "      <th>Volume</th>\n",
              "      <th>Adj Close</th>\n",
              "    </tr>\n",
              "  </thead>\n",
              "  <tbody>\n",
              "    <tr>\n",
              "      <th>0</th>\n",
              "      <td>2021-07-23</td>\n",
              "      <td>138.899994</td>\n",
              "      <td>115.000000</td>\n",
              "      <td>116.000000</td>\n",
              "      <td>126.000000</td>\n",
              "      <td>694895290</td>\n",
              "      <td>126.000000</td>\n",
              "    </tr>\n",
              "    <tr>\n",
              "      <th>1</th>\n",
              "      <td>2021-07-26</td>\n",
              "      <td>143.750000</td>\n",
              "      <td>125.300003</td>\n",
              "      <td>126.349998</td>\n",
              "      <td>140.649994</td>\n",
              "      <td>249723854</td>\n",
              "      <td>140.649994</td>\n",
              "    </tr>\n",
              "    <tr>\n",
              "      <th>2</th>\n",
              "      <td>2021-07-27</td>\n",
              "      <td>147.800003</td>\n",
              "      <td>127.750000</td>\n",
              "      <td>141.699997</td>\n",
              "      <td>132.899994</td>\n",
              "      <td>240341900</td>\n",
              "      <td>132.899994</td>\n",
              "    </tr>\n",
              "    <tr>\n",
              "      <th>3</th>\n",
              "      <td>2021-07-28</td>\n",
              "      <td>135.000000</td>\n",
              "      <td>123.550003</td>\n",
              "      <td>131.000000</td>\n",
              "      <td>131.199997</td>\n",
              "      <td>159793731</td>\n",
              "      <td>131.199997</td>\n",
              "    </tr>\n",
              "    <tr>\n",
              "      <th>4</th>\n",
              "      <td>2021-07-29</td>\n",
              "      <td>144.000000</td>\n",
              "      <td>132.199997</td>\n",
              "      <td>134.949997</td>\n",
              "      <td>141.550003</td>\n",
              "      <td>117973089</td>\n",
              "      <td>141.550003</td>\n",
              "    </tr>\n",
              "  </tbody>\n",
              "</table>\n",
              "</div>\n",
              "      <button class=\"colab-df-convert\" onclick=\"convertToInteractive('df-8ae54962-9ce9-4aec-9efe-783286257242')\"\n",
              "              title=\"Convert this dataframe to an interactive table.\"\n",
              "              style=\"display:none;\">\n",
              "        \n",
              "  <svg xmlns=\"http://www.w3.org/2000/svg\" height=\"24px\"viewBox=\"0 0 24 24\"\n",
              "       width=\"24px\">\n",
              "    <path d=\"M0 0h24v24H0V0z\" fill=\"none\"/>\n",
              "    <path d=\"M18.56 5.44l.94 2.06.94-2.06 2.06-.94-2.06-.94-.94-2.06-.94 2.06-2.06.94zm-11 1L8.5 8.5l.94-2.06 2.06-.94-2.06-.94L8.5 2.5l-.94 2.06-2.06.94zm10 10l.94 2.06.94-2.06 2.06-.94-2.06-.94-.94-2.06-.94 2.06-2.06.94z\"/><path d=\"M17.41 7.96l-1.37-1.37c-.4-.4-.92-.59-1.43-.59-.52 0-1.04.2-1.43.59L10.3 9.45l-7.72 7.72c-.78.78-.78 2.05 0 2.83L4 21.41c.39.39.9.59 1.41.59.51 0 1.02-.2 1.41-.59l7.78-7.78 2.81-2.81c.8-.78.8-2.07 0-2.86zM5.41 20L4 18.59l7.72-7.72 1.47 1.35L5.41 20z\"/>\n",
              "  </svg>\n",
              "      </button>\n",
              "      \n",
              "  <style>\n",
              "    .colab-df-container {\n",
              "      display:flex;\n",
              "      flex-wrap:wrap;\n",
              "      gap: 12px;\n",
              "    }\n",
              "\n",
              "    .colab-df-convert {\n",
              "      background-color: #E8F0FE;\n",
              "      border: none;\n",
              "      border-radius: 50%;\n",
              "      cursor: pointer;\n",
              "      display: none;\n",
              "      fill: #1967D2;\n",
              "      height: 32px;\n",
              "      padding: 0 0 0 0;\n",
              "      width: 32px;\n",
              "    }\n",
              "\n",
              "    .colab-df-convert:hover {\n",
              "      background-color: #E2EBFA;\n",
              "      box-shadow: 0px 1px 2px rgba(60, 64, 67, 0.3), 0px 1px 3px 1px rgba(60, 64, 67, 0.15);\n",
              "      fill: #174EA6;\n",
              "    }\n",
              "\n",
              "    [theme=dark] .colab-df-convert {\n",
              "      background-color: #3B4455;\n",
              "      fill: #D2E3FC;\n",
              "    }\n",
              "\n",
              "    [theme=dark] .colab-df-convert:hover {\n",
              "      background-color: #434B5C;\n",
              "      box-shadow: 0px 1px 3px 1px rgba(0, 0, 0, 0.15);\n",
              "      filter: drop-shadow(0px 1px 2px rgba(0, 0, 0, 0.3));\n",
              "      fill: #FFFFFF;\n",
              "    }\n",
              "  </style>\n",
              "\n",
              "      <script>\n",
              "        const buttonEl =\n",
              "          document.querySelector('#df-8ae54962-9ce9-4aec-9efe-783286257242 button.colab-df-convert');\n",
              "        buttonEl.style.display =\n",
              "          google.colab.kernel.accessAllowed ? 'block' : 'none';\n",
              "\n",
              "        async function convertToInteractive(key) {\n",
              "          const element = document.querySelector('#df-8ae54962-9ce9-4aec-9efe-783286257242');\n",
              "          const dataTable =\n",
              "            await google.colab.kernel.invokeFunction('convertToInteractive',\n",
              "                                                     [key], {});\n",
              "          if (!dataTable) return;\n",
              "\n",
              "          const docLinkHtml = 'Like what you see? Visit the ' +\n",
              "            '<a target=\"_blank\" href=https://colab.research.google.com/notebooks/data_table.ipynb>data table notebook</a>'\n",
              "            + ' to learn more about interactive tables.';\n",
              "          element.innerHTML = '';\n",
              "          dataTable['output_type'] = 'display_data';\n",
              "          await google.colab.output.renderOutput(dataTable, element);\n",
              "          const docLink = document.createElement('div');\n",
              "          docLink.innerHTML = docLinkHtml;\n",
              "          element.appendChild(docLink);\n",
              "        }\n",
              "      </script>\n",
              "    </div>\n",
              "  </div>\n",
              "  "
            ]
          },
          "metadata": {},
          "execution_count": 4
        }
      ]
    },
    {
      "cell_type": "code",
      "source": [
        "# im taking 'Close' for my future prediction\n",
        "data1=data.reset_index()['Close']"
      ],
      "metadata": {
        "id": "PNHGB2bVvu1S"
      },
      "execution_count": 5,
      "outputs": []
    },
    {
      "cell_type": "code",
      "source": [
        "import matplotlib.pyplot as plt\n",
        "plt.plot(data1)"
      ],
      "metadata": {
        "colab": {
          "base_uri": "https://localhost:8080/",
          "height": 282
        },
        "id": "ESEGy9_Gw9W6",
        "outputId": "fe83ad90-2ac4-454d-f845-67cad01cc5f4"
      },
      "execution_count": 6,
      "outputs": [
        {
          "output_type": "execute_result",
          "data": {
            "text/plain": [
              "[<matplotlib.lines.Line2D at 0x7fb8bd9101d0>]"
            ]
          },
          "metadata": {},
          "execution_count": 6
        },
        {
          "output_type": "display_data",
          "data": {
            "text/plain": [
              "<Figure size 432x288 with 1 Axes>"
            ],
            "image/png": "[encoded data removed]"
          },
          "metadata": {
            "needs_background": "light"
          }
        }
      ]
    },
    {
      "cell_type": "markdown",
      "source": [
        "LSTM are sencitive to scale of the data. so we apply mimnax scalar"
      ],
      "metadata": {
        "id": "2gOQWAKMxz_S"
      }
    },
    {
      "cell_type": "code",
      "source": [
        "import numpy as np\n",
        "from sklearn.preprocessing import MinMaxScaler\n",
        "scalar=MinMaxScaler(feature_range=(0,1))\n",
        "data1=scalar.fit_transform(np.array(data1).reshape(-1,1))"
      ],
      "metadata": {
        "id": "qnFRPmWRxx9F"
      },
      "execution_count": 7,
      "outputs": []
    },
    {
      "cell_type": "code",
      "source": [
        "data1.shape"
      ],
      "metadata": {
        "colab": {
          "base_uri": "https://localhost:8080/"
        },
        "id": "LKj7MJG9YmxW",
        "outputId": "316e5518-ecf2-488c-da38-0bbed5033a85"
      },
      "execution_count": 8,
      "outputs": [
        {
          "output_type": "execute_result",
          "data": {
            "text/plain": [
              "(235, 1)"
            ]
          },
          "metadata": {},
          "execution_count": 8
        }
      ]
    },
    {
      "cell_type": "code",
      "source": [
        "training_size=int(len(data1)*0.65)\n",
        "test_size=len(data1)-training_size\n",
        "train_data,test_data=data1[0:training_size,:],data1[training_size:len(data1),:1]"
      ],
      "metadata": {
        "id": "8lhfeCF1YwAT"
      },
      "execution_count": 18,
      "outputs": []
    },
    {
      "cell_type": "code",
      "source": [
        "print(test_data,train_data)"
      ],
      "metadata": {
        "colab": {
          "base_uri": "https://localhost:8080/"
        },
        "id": "Zzvfs0KAMLJt",
        "outputId": "987cc91f-48a2-4f03-9c2d-bef6f61751fc"
      },
      "execution_count": 31,
      "outputs": [
        {
          "output_type": "stream",
          "name": "stdout",
          "text": [
            "[[0.27918778]\n",
            " [0.26072908]\n",
            " [0.24965389]\n",
            " [0.24180895]\n",
            " [0.26211349]\n",
            " [0.27918778]\n",
            " [0.25796032]\n",
            " [0.25242272]\n",
            " [0.22704201]\n",
            " [0.22150434]\n",
            " [0.26672817]\n",
            " [0.26257499]\n",
            " [0.269497  ]\n",
            " [0.26580525]\n",
            " [0.26211349]\n",
            " [0.26442083]\n",
            " [0.25565298]\n",
            " [0.24227038]\n",
            " [0.30549148]\n",
            " [0.28011077]\n",
            " [0.29856947]\n",
            " [0.31656667]\n",
            " [0.29487771]\n",
            " [0.3008768 ]\n",
            " [0.28195661]\n",
            " [0.29026304]\n",
            " [0.29995381]\n",
            " [0.27272726]\n",
            " [0.29487771]\n",
            " [0.28564836]\n",
            " [0.26303642]\n",
            " [0.26165207]\n",
            " [0.26626674]\n",
            " [0.26995843]\n",
            " [0.24734655]\n",
            " [0.25519148]\n",
            " [0.22058142]\n",
            " [0.20212272]\n",
            " [0.18274111]\n",
            " [0.16197507]\n",
            " [0.11536683]\n",
            " [0.08491002]\n",
            " [0.07891093]\n",
            " [0.04430087]\n",
            " [0.00461467]\n",
            " [0.02076604]\n",
            " [0.        ]\n",
            " [0.04522379]\n",
            " [0.04107061]\n",
            " [0.03876327]\n",
            " [0.06275957]\n",
            " [0.03137977]\n",
            " [0.05629902]\n",
            " [0.04706967]\n",
            " [0.1199815 ]\n",
            " [0.09552375]\n",
            " [0.07844947]\n",
            " [0.09321641]\n",
            " [0.17628059]\n",
            " [0.20950623]\n",
            " [0.20996766]\n",
            " [0.18458695]\n",
            " [0.18643286]\n",
            " [0.16566682]\n",
            " [0.12413475]\n",
            " [0.14028611]\n",
            " [0.15459156]\n",
            " [0.1573604 ]\n",
            " [0.14351637]\n",
            " [0.16658974]\n",
            " [0.16843559]\n",
            " [0.14074754]\n",
            " [0.13936319]\n",
            " [0.120443  ]\n",
            " [0.13013384]\n",
            " [0.14443929]\n",
            " [0.16243657]\n",
            " [0.17120442]\n",
            " [0.12828793]\n",
            " [0.07706505]\n",
            " [0.049377  ]\n",
            " [0.01753574]\n",
            " [0.03876327]] [[0.6834333 ]\n",
            " [0.8186432 ]\n",
            " [0.74711575]\n",
            " [0.73142588]\n",
            " [0.8269497 ]\n",
            " [0.75265341]\n",
            " [0.80987535]\n",
            " [0.80710652]\n",
            " [0.79787717]\n",
            " [0.76603594]\n",
            " [0.73281037]\n",
            " [0.72588836]\n",
            " [0.67604979]\n",
            " [0.77249646]\n",
            " [0.77065062]\n",
            " [0.78818647]\n",
            " [0.76603594]\n",
            " [0.74342407]\n",
            " [0.76603594]\n",
            " [0.80618367]\n",
            " [0.69496998]\n",
            " [0.67420395]\n",
            " [0.66728194]\n",
            " [0.68204888]\n",
            " [0.67143511]\n",
            " [0.75311491]\n",
            " [0.76234426]\n",
            " [0.74434706]\n",
            " [0.7904938 ]\n",
            " [0.90263034]\n",
            " [0.85002308]\n",
            " [0.81310568]\n",
            " [0.82418087]\n",
            " [0.8274112 ]\n",
            " [0.84171658]\n",
            " [0.85048457]\n",
            " [0.8371019 ]\n",
            " [0.83156438]\n",
            " [0.79326249]\n",
            " [0.76003692]\n",
            " [0.75219192]\n",
            " [0.73973238]\n",
            " [0.78772497]\n",
            " [0.78172581]\n",
            " [0.84679275]\n",
            " [0.80341484]\n",
            " [0.79880016]\n",
            " [0.78126445]\n",
            " [0.79418549]\n",
            " [0.80433783]\n",
            " [0.79372399]\n",
            " [0.76603594]\n",
            " [0.78587913]\n",
            " [0.77711113]\n",
            " [0.78357179]\n",
            " [0.78126445]\n",
            " [0.77065062]\n",
            " [0.76649744]\n",
            " [0.85002308]\n",
            " [0.79926166]\n",
            " [0.79326249]\n",
            " [0.79556983]\n",
            " [0.79187815]\n",
            " [0.74526991]\n",
            " [0.77065062]\n",
            " [0.7646516 ]\n",
            " [0.7720351 ]\n",
            " [0.73465621]\n",
            " [0.74480841]\n",
            " [0.74296257]\n",
            " [0.70512232]\n",
            " [0.73281037]\n",
            " [0.73096439]\n",
            " [0.79095516]\n",
            " [0.77618828]\n",
            " [0.82095054]\n",
            " [0.93262572]\n",
            " [1.        ]\n",
            " [0.97508079]\n",
            " [0.96538994]\n",
            " [0.94831559]\n",
            " [0.90263034]\n",
            " [0.89293949]\n",
            " [0.9556991 ]\n",
            " [0.99492383]\n",
            " [0.88786332]\n",
            " [0.89663132]\n",
            " [0.92847254]\n",
            " [0.91785871]\n",
            " [0.9109367 ]\n",
            " [0.85786794]\n",
            " [0.79926166]\n",
            " [0.81079834]\n",
            " [0.88278729]\n",
            " [0.87032762]\n",
            " [0.81772035]\n",
            " [0.8371019 ]\n",
            " [0.8186432 ]\n",
            " [0.81818185]\n",
            " [0.79787717]\n",
            " [0.76972777]\n",
            " [0.68850947]\n",
            " [0.73511771]\n",
            " [0.80018451]\n",
            " [0.74803874]\n",
            " [0.73373322]\n",
            " [0.7457314 ]\n",
            " [0.74665439]\n",
            " [0.78587913]\n",
            " [0.75680659]\n",
            " [0.78864782]\n",
            " [0.82510386]\n",
            " [0.79741581]\n",
            " [0.75680659]\n",
            " [0.72035069]\n",
            " [0.71342868]\n",
            " [0.72219653]\n",
            " [0.73234888]\n",
            " [0.74111673]\n",
            " [0.74896173]\n",
            " [0.75357641]\n",
            " [0.75726809]\n",
            " [0.74850024]\n",
            " [0.71296719]\n",
            " [0.67604979]\n",
            " [0.56945085]\n",
            " [0.36363633]\n",
            " [0.4476234 ]\n",
            " [0.3557914 ]\n",
            " [0.34702355]\n",
            " [0.35486848]\n",
            " [0.39317029]\n",
            " [0.43331795]\n",
            " [0.41670509]\n",
            " [0.38993997]\n",
            " [0.38394095]\n",
            " [0.38394095]\n",
            " [0.38993997]\n",
            " [0.3922473 ]\n",
            " [0.33917855]\n",
            " [0.28149511]\n",
            " [0.28380245]\n",
            " [0.30456849]\n",
            " [0.34333179]\n",
            " [0.31333641]\n",
            " [0.27318876]\n",
            " [0.2561144 ]\n",
            " [0.29718505]\n",
            " [0.24503921]\n",
            " [0.24780805]\n",
            " [0.25842174]\n",
            " [0.25749882]]\n"
          ]
        }
      ]
    },
    {
      "cell_type": "code",
      "source": [
        "import numpy\n",
        "# convert an array of values into a dataset matrix\n",
        "def create_dataset(dataset, time_step=1):\n",
        "    dataX,dataY = [],[]\n",
        "    for i in range(len(dataset)-time_step-1):\n",
        "        a=dataset[i:(i+time_step),0] #i=0  0,1,2,3,4,------99,100\n",
        "        dataX.append(a)\n",
        "        dataY.append(dataset[i+time_step,0])\n",
        "    return numpy.array(dataX), numpy.array(dataY)"
      ],
      "metadata": {
        "id": "5knnyXhSb1IS"
      },
      "execution_count": 13,
      "outputs": []
    },
    {
      "cell_type": "code",
      "source": [
        "#reshape into X=t,t+1,t+2,t+3 and t+4\n",
        "time_step=70\n",
        "X_train,y_train =create_dataset(train_data,time_step)\n",
        "X_test,y_test = create_dataset(test_data,time_step)\n"
      ],
      "metadata": {
        "id": "du6im_ZcdimB"
      },
      "execution_count": 32,
      "outputs": []
    },
    {
      "cell_type": "code",
      "source": [
        "print(X_train.shape), print(y_train.shape)"
      ],
      "metadata": {
        "colab": {
          "base_uri": "https://localhost:8080/"
        },
        "id": "FLSv1d-wej4J",
        "outputId": "e64f18c0-eb1a-4f7e-8a87-97e9e9d8d080"
      },
      "execution_count": 33,
      "outputs": [
        {
          "output_type": "stream",
          "name": "stdout",
          "text": [
            "(81, 70)\n",
            "(81,)\n"
          ]
        },
        {
          "output_type": "execute_result",
          "data": {
            "text/plain": [
              "(None, None)"
            ]
          },
          "metadata": {},
          "execution_count": 33
        }
      ]
    },
    {
      "cell_type": "code",
      "source": [
        "print(X_test.shape),print(y_test.shape)"
      ],
      "metadata": {
        "colab": {
          "base_uri": "https://localhost:8080/"
        },
        "id": "uJGWQfgDJOWV",
        "outputId": "7b7fdd0d-0519-47d9-d08a-2ac4c2073a98"
      },
      "execution_count": 34,
      "outputs": [
        {
          "output_type": "stream",
          "name": "stdout",
          "text": [
            "(12, 70)\n",
            "(12,)\n"
          ]
        },
        {
          "output_type": "execute_result",
          "data": {
            "text/plain": [
              "(None, None)"
            ]
          },
          "metadata": {},
          "execution_count": 34
        }
      ]
    },
    {
      "cell_type": "code",
      "source": [
        "#For LSTM we have to reshape input to be [samples, time steps, features] which is required\n",
        "X_train = X_train.reshape(X_train.shape[0],X_train.shape[1], 1)\n",
        "X_test = X_test.reshape(X_test.shape[0],X_test.shape[1], 1)"
      ],
      "metadata": {
        "id": "MBKXW1qBJOdL"
      },
      "execution_count": 35,
      "outputs": []
    },
    {
      "cell_type": "code",
      "source": [
        "## create the LSTM model\n",
        "from tensorflow.keras.models import Sequential\n",
        "from tensorflow.keras.layers import Dense\n",
        "from tensorflow.keras.layers import LSTM"
      ],
      "metadata": {
        "id": "pK85oA21JOig"
      },
      "execution_count": 36,
      "outputs": []
    },
    {
      "cell_type": "code",
      "source": [
        "model=Sequential()\n",
        "model.add(LSTM(50,return_sequences=True,input_shape=(70,1)))\n",
        "model.add(LSTM(50,return_sequences=True))\n",
        "model.add(LSTM(50))\n",
        "model.add(Dense(1))\n",
        "model.compile(loss='mean_squared_error',optimizer='adam')"
      ],
      "metadata": {
        "id": "e7WuyAE3JOr6"
      },
      "execution_count": 37,
      "outputs": []
    },
    {
      "cell_type": "code",
      "source": [
        "model.summary()"
      ],
      "metadata": {
        "colab": {
          "base_uri": "https://localhost:8080/"
        },
        "id": "CmVYWEG3Si98",
        "outputId": "cca824c3-9e4e-4d12-b77d-34952e2fa5a1"
      },
      "execution_count": 39,
      "outputs": [
        {
          "output_type": "stream",
          "name": "stdout",
          "text": [
            "Model: \"sequential\"\n",
            "_________________________________________________________________\n",
            " Layer (type)                Output Shape              Param #   \n",
            "=================================================================\n",
            " lstm (LSTM)                 (None, 70, 50)            10400     \n",
            "                                                                 \n",
            " lstm_1 (LSTM)               (None, 70, 50)            20200     \n",
            "                                                                 \n",
            " lstm_2 (LSTM)               (None, 50)                20200     \n",
            "                                                                 \n",
            " dense (Dense)               (None, 1)                 51        \n",
            "                                                                 \n",
            "=================================================================\n",
            "Total params: 50,851\n",
            "Trainable params: 50,851\n",
            "Non-trainable params: 0\n",
            "_________________________________________________________________\n"
          ]
        }
      ]
    },
    {
      "cell_type": "code",
      "source": [
        "model.fit(X_train,y_train,validation_data=(X_test,y_test),epochs=100,batch_size=64,verbose=1)\n"
      ],
      "metadata": {
        "colab": {
          "base_uri": "https://localhost:8080/"
        },
        "id": "UELLFgHqShBX",
        "outputId": "d0803a2a-1f74-43ae-9777-6e7616d0a2c7"
      },
      "execution_count": 40,
      "outputs": [
        {
          "output_type": "stream",
          "name": "stdout",
          "text": [
            "Epoch 1/100\n",
            "2/2 [==============================] - 7s 1s/step - loss: 0.4892 - val_loss: 0.0056\n",
            "Epoch 2/100\n",
            "2/2 [==============================] - 0s 120ms/step - loss: 0.2617 - val_loss: 0.0025\n",
            "Epoch 3/100\n",
            "2/2 [==============================] - 0s 123ms/step - loss: 0.0948 - val_loss: 0.0160\n",
            "Epoch 4/100\n",
            "2/2 [==============================] - 0s 116ms/step - loss: 0.0326 - val_loss: 0.0403\n",
            "Epoch 5/100\n",
            "2/2 [==============================] - 0s 129ms/step - loss: 0.0902 - val_loss: 0.0304\n",
            "Epoch 6/100\n",
            "2/2 [==============================] - 0s 121ms/step - loss: 0.0476 - val_loss: 0.0162\n",
            "Epoch 7/100\n",
            "2/2 [==============================] - 0s 117ms/step - loss: 0.0240 - val_loss: 0.0096\n",
            "Epoch 8/100\n",
            "2/2 [==============================] - 0s 122ms/step - loss: 0.0347 - val_loss: 0.0079\n",
            "Epoch 9/100\n",
            "2/2 [==============================] - 0s 123ms/step - loss: 0.0415 - val_loss: 0.0092\n",
            "Epoch 10/100\n",
            "2/2 [==============================] - 0s 118ms/step - loss: 0.0358 - val_loss: 0.0132\n",
            "Epoch 11/100\n",
            "2/2 [==============================] - 0s 117ms/step - loss: 0.0261 - val_loss: 0.0193\n",
            "Epoch 12/100\n",
            "2/2 [==============================] - 0s 132ms/step - loss: 0.0231 - val_loss: 0.0251\n",
            "Epoch 13/100\n",
            "2/2 [==============================] - 0s 122ms/step - loss: 0.0269 - val_loss: 0.0267\n",
            "Epoch 14/100\n",
            "2/2 [==============================] - 0s 123ms/step - loss: 0.0287 - val_loss: 0.0234\n",
            "Epoch 15/100\n",
            "2/2 [==============================] - 0s 122ms/step - loss: 0.0252 - val_loss: 0.0183\n",
            "Epoch 16/100\n",
            "2/2 [==============================] - 0s 129ms/step - loss: 0.0218 - val_loss: 0.0141\n",
            "Epoch 17/100\n",
            "2/2 [==============================] - 0s 120ms/step - loss: 0.0220 - val_loss: 0.0116\n",
            "Epoch 18/100\n",
            "2/2 [==============================] - 0s 120ms/step - loss: 0.0233 - val_loss: 0.0109\n",
            "Epoch 19/100\n",
            "2/2 [==============================] - 0s 121ms/step - loss: 0.0228 - val_loss: 0.0116\n",
            "Epoch 20/100\n",
            "2/2 [==============================] - 0s 163ms/step - loss: 0.0209 - val_loss: 0.0131\n",
            "Epoch 21/100\n",
            "2/2 [==============================] - 0s 117ms/step - loss: 0.0197 - val_loss: 0.0141\n",
            "Epoch 22/100\n",
            "2/2 [==============================] - 0s 117ms/step - loss: 0.0206 - val_loss: 0.0139\n",
            "Epoch 23/100\n",
            "2/2 [==============================] - 0s 125ms/step - loss: 0.0207 - val_loss: 0.0116\n",
            "Epoch 24/100\n",
            "2/2 [==============================] - 0s 124ms/step - loss: 0.0190 - val_loss: 0.0088\n",
            "Epoch 25/100\n",
            "2/2 [==============================] - 0s 151ms/step - loss: 0.0185 - val_loss: 0.0069\n",
            "Epoch 26/100\n",
            "2/2 [==============================] - 0s 152ms/step - loss: 0.0184 - val_loss: 0.0064\n",
            "Epoch 27/100\n",
            "2/2 [==============================] - 0s 128ms/step - loss: 0.0177 - val_loss: 0.0064\n",
            "Epoch 28/100\n",
            "2/2 [==============================] - 0s 125ms/step - loss: 0.0168 - val_loss: 0.0064\n",
            "Epoch 29/100\n",
            "2/2 [==============================] - 0s 130ms/step - loss: 0.0165 - val_loss: 0.0060\n",
            "Epoch 30/100\n",
            "2/2 [==============================] - 0s 115ms/step - loss: 0.0165 - val_loss: 0.0049\n",
            "Epoch 31/100\n",
            "2/2 [==============================] - 0s 116ms/step - loss: 0.0157 - val_loss: 0.0037\n",
            "Epoch 32/100\n",
            "2/2 [==============================] - 0s 127ms/step - loss: 0.0150 - val_loss: 0.0031\n",
            "Epoch 33/100\n",
            "2/2 [==============================] - 0s 119ms/step - loss: 0.0148 - val_loss: 0.0027\n",
            "Epoch 34/100\n",
            "2/2 [==============================] - 0s 123ms/step - loss: 0.0142 - val_loss: 0.0027\n",
            "Epoch 35/100\n",
            "2/2 [==============================] - 0s 119ms/step - loss: 0.0139 - val_loss: 0.0026\n",
            "Epoch 36/100\n",
            "2/2 [==============================] - 0s 117ms/step - loss: 0.0144 - val_loss: 0.0022\n",
            "Epoch 37/100\n",
            "2/2 [==============================] - 0s 132ms/step - loss: 0.0137 - val_loss: 0.0021\n",
            "Epoch 38/100\n",
            "2/2 [==============================] - 0s 125ms/step - loss: 0.0135 - val_loss: 0.0021\n",
            "Epoch 39/100\n",
            "2/2 [==============================] - 0s 124ms/step - loss: 0.0128 - val_loss: 0.0021\n",
            "Epoch 40/100\n",
            "2/2 [==============================] - 0s 124ms/step - loss: 0.0140 - val_loss: 0.0021\n",
            "Epoch 41/100\n",
            "2/2 [==============================] - 0s 124ms/step - loss: 0.0128 - val_loss: 0.0022\n",
            "Epoch 42/100\n",
            "2/2 [==============================] - 0s 125ms/step - loss: 0.0133 - val_loss: 0.0023\n",
            "Epoch 43/100\n",
            "2/2 [==============================] - 0s 121ms/step - loss: 0.0135 - val_loss: 0.0022\n",
            "Epoch 44/100\n",
            "2/2 [==============================] - 0s 124ms/step - loss: 0.0124 - val_loss: 0.0023\n",
            "Epoch 45/100\n",
            "2/2 [==============================] - 0s 126ms/step - loss: 0.0124 - val_loss: 0.0023\n",
            "Epoch 46/100\n",
            "2/2 [==============================] - 0s 141ms/step - loss: 0.0124 - val_loss: 0.0023\n",
            "Epoch 47/100\n",
            "2/2 [==============================] - 0s 122ms/step - loss: 0.0123 - val_loss: 0.0023\n",
            "Epoch 48/100\n",
            "2/2 [==============================] - 0s 123ms/step - loss: 0.0123 - val_loss: 0.0023\n",
            "Epoch 49/100\n",
            "2/2 [==============================] - 0s 125ms/step - loss: 0.0122 - val_loss: 0.0023\n",
            "Epoch 50/100\n",
            "2/2 [==============================] - 0s 126ms/step - loss: 0.0121 - val_loss: 0.0023\n",
            "Epoch 51/100\n",
            "2/2 [==============================] - 0s 122ms/step - loss: 0.0123 - val_loss: 0.0023\n",
            "Epoch 52/100\n",
            "2/2 [==============================] - 0s 118ms/step - loss: 0.0120 - val_loss: 0.0021\n",
            "Epoch 53/100\n",
            "2/2 [==============================] - 0s 124ms/step - loss: 0.0124 - val_loss: 0.0021\n",
            "Epoch 54/100\n",
            "2/2 [==============================] - 0s 122ms/step - loss: 0.0121 - val_loss: 0.0022\n",
            "Epoch 55/100\n",
            "2/2 [==============================] - 0s 123ms/step - loss: 0.0121 - val_loss: 0.0022\n",
            "Epoch 56/100\n",
            "2/2 [==============================] - 0s 131ms/step - loss: 0.0119 - val_loss: 0.0020\n",
            "Epoch 57/100\n",
            "2/2 [==============================] - 0s 142ms/step - loss: 0.0122 - val_loss: 0.0020\n",
            "Epoch 58/100\n",
            "2/2 [==============================] - 0s 145ms/step - loss: 0.0120 - val_loss: 0.0021\n",
            "Epoch 59/100\n",
            "2/2 [==============================] - 0s 135ms/step - loss: 0.0119 - val_loss: 0.0021\n",
            "Epoch 60/100\n",
            "2/2 [==============================] - 0s 128ms/step - loss: 0.0130 - val_loss: 0.0020\n",
            "Epoch 61/100\n",
            "2/2 [==============================] - 0s 123ms/step - loss: 0.0124 - val_loss: 0.0019\n",
            "Epoch 62/100\n",
            "2/2 [==============================] - 0s 135ms/step - loss: 0.0118 - val_loss: 0.0020\n",
            "Epoch 63/100\n",
            "2/2 [==============================] - 0s 116ms/step - loss: 0.0123 - val_loss: 0.0020\n",
            "Epoch 64/100\n",
            "2/2 [==============================] - 0s 122ms/step - loss: 0.0134 - val_loss: 0.0019\n",
            "Epoch 65/100\n",
            "2/2 [==============================] - 0s 119ms/step - loss: 0.0116 - val_loss: 0.0019\n",
            "Epoch 66/100\n",
            "2/2 [==============================] - 0s 148ms/step - loss: 0.0116 - val_loss: 0.0019\n",
            "Epoch 67/100\n",
            "2/2 [==============================] - 0s 119ms/step - loss: 0.0117 - val_loss: 0.0019\n",
            "Epoch 68/100\n",
            "2/2 [==============================] - 0s 121ms/step - loss: 0.0113 - val_loss: 0.0019\n",
            "Epoch 69/100\n",
            "2/2 [==============================] - 0s 117ms/step - loss: 0.0116 - val_loss: 0.0019\n",
            "Epoch 70/100\n",
            "2/2 [==============================] - 0s 128ms/step - loss: 0.0111 - val_loss: 0.0020\n",
            "Epoch 71/100\n",
            "2/2 [==============================] - 0s 130ms/step - loss: 0.0122 - val_loss: 0.0020\n",
            "Epoch 72/100\n",
            "2/2 [==============================] - 0s 118ms/step - loss: 0.0115 - val_loss: 0.0019\n",
            "Epoch 73/100\n",
            "2/2 [==============================] - 0s 133ms/step - loss: 0.0114 - val_loss: 0.0019\n",
            "Epoch 74/100\n",
            "2/2 [==============================] - 0s 119ms/step - loss: 0.0117 - val_loss: 0.0019\n",
            "Epoch 75/100\n",
            "2/2 [==============================] - 0s 116ms/step - loss: 0.0108 - val_loss: 0.0020\n",
            "Epoch 76/100\n",
            "2/2 [==============================] - 0s 126ms/step - loss: 0.0129 - val_loss: 0.0019\n",
            "Epoch 77/100\n",
            "2/2 [==============================] - 0s 117ms/step - loss: 0.0111 - val_loss: 0.0019\n",
            "Epoch 78/100\n",
            "2/2 [==============================] - 0s 124ms/step - loss: 0.0126 - val_loss: 0.0019\n",
            "Epoch 79/100\n",
            "2/2 [==============================] - 0s 126ms/step - loss: 0.0122 - val_loss: 0.0019\n",
            "Epoch 80/100\n",
            "2/2 [==============================] - 0s 122ms/step - loss: 0.0112 - val_loss: 0.0019\n",
            "Epoch 81/100\n",
            "2/2 [==============================] - 0s 122ms/step - loss: 0.0110 - val_loss: 0.0019\n",
            "Epoch 82/100\n",
            "2/2 [==============================] - 0s 137ms/step - loss: 0.0107 - val_loss: 0.0020\n",
            "Epoch 83/100\n",
            "2/2 [==============================] - 0s 120ms/step - loss: 0.0124 - val_loss: 0.0019\n",
            "Epoch 84/100\n",
            "2/2 [==============================] - 0s 118ms/step - loss: 0.0112 - val_loss: 0.0019\n",
            "Epoch 85/100\n",
            "2/2 [==============================] - 0s 124ms/step - loss: 0.0113 - val_loss: 0.0019\n",
            "Epoch 86/100\n",
            "2/2 [==============================] - 0s 125ms/step - loss: 0.0109 - val_loss: 0.0019\n",
            "Epoch 87/100\n",
            "2/2 [==============================] - 0s 123ms/step - loss: 0.0107 - val_loss: 0.0019\n",
            "Epoch 88/100\n",
            "2/2 [==============================] - 0s 123ms/step - loss: 0.0109 - val_loss: 0.0018\n",
            "Epoch 89/100\n",
            "2/2 [==============================] - 0s 119ms/step - loss: 0.0102 - val_loss: 0.0019\n",
            "Epoch 90/100\n",
            "2/2 [==============================] - 0s 132ms/step - loss: 0.0113 - val_loss: 0.0019\n",
            "Epoch 91/100\n",
            "2/2 [==============================] - 0s 120ms/step - loss: 0.0113 - val_loss: 0.0018\n",
            "Epoch 92/100\n",
            "2/2 [==============================] - 0s 117ms/step - loss: 0.0102 - val_loss: 0.0019\n",
            "Epoch 93/100\n",
            "2/2 [==============================] - 0s 117ms/step - loss: 0.0105 - val_loss: 0.0018\n",
            "Epoch 94/100\n",
            "2/2 [==============================] - 0s 125ms/step - loss: 0.0103 - val_loss: 0.0018\n",
            "Epoch 95/100\n",
            "2/2 [==============================] - 0s 122ms/step - loss: 0.0101 - val_loss: 0.0018\n",
            "Epoch 96/100\n",
            "2/2 [==============================] - 0s 118ms/step - loss: 0.0100 - val_loss: 0.0018\n",
            "Epoch 97/100\n",
            "2/2 [==============================] - 0s 133ms/step - loss: 0.0100 - val_loss: 0.0018\n",
            "Epoch 98/100\n",
            "2/2 [==============================] - 0s 126ms/step - loss: 0.0101 - val_loss: 0.0018\n",
            "Epoch 99/100\n",
            "2/2 [==============================] - 0s 116ms/step - loss: 0.0100 - val_loss: 0.0018\n",
            "Epoch 100/100\n",
            "2/2 [==============================] - 0s 121ms/step - loss: 0.0098 - val_loss: 0.0018\n"
          ]
        },
        {
          "output_type": "execute_result",
          "data": {
            "text/plain": [
              "<keras.callbacks.History at 0x7fb84c476c10>"
            ]
          },
          "metadata": {},
          "execution_count": 40
        }
      ]
    },
    {
      "cell_type": "code",
      "source": [
        "import tensorflow as tf"
      ],
      "metadata": {
        "id": "INO-9UcgTXgd"
      },
      "execution_count": 65,
      "outputs": []
    },
    {
      "cell_type": "code",
      "source": [
        "# Now we do predition and check performance matrics\n",
        "train_predict=model.predict(X_train)\n",
        "test_predict=model.predict(X_test)"
      ],
      "metadata": {
        "id": "vOlPCcSdTfcR"
      },
      "execution_count": 66,
      "outputs": []
    },
    {
      "cell_type": "code",
      "source": [
        "#transformback to orignal form\n",
        "train_predict=scalar.inverse_transform(train_predict)\n",
        "test_predict=scalar.inverse_transform(test_predict)"
      ],
      "metadata": {
        "id": "eBWocEBaULtw"
      },
      "execution_count": 67,
      "outputs": []
    },
    {
      "cell_type": "code",
      "source": [
        "# calculate RMSE performance metrics\n",
        "import math\n",
        "from sklearn.metrics import mean_squared_error\n",
        "# Train RMSE\n",
        "math.sqrt(mean_squared_error(y_train,train_predict))"
      ],
      "metadata": {
        "colab": {
          "base_uri": "https://localhost:8080/"
        },
        "id": "gzmX1e7nUuWb",
        "outputId": "2769296a-7650-4861-c790-e888207cfa6f"
      },
      "execution_count": 68,
      "outputs": [
        {
          "output_type": "execute_result",
          "data": {
            "text/plain": [
              "125.91270384661827"
            ]
          },
          "metadata": {},
          "execution_count": 68
        }
      ]
    },
    {
      "cell_type": "code",
      "source": [
        "#Test RMSE\n",
        "math.sqrt(mean_squared_error(y_test,test_predict))"
      ],
      "metadata": {
        "colab": {
          "base_uri": "https://localhost:8080/"
        },
        "id": "bUPDY7eaVVVr",
        "outputId": "386d106c-1ab6-4fba-c44d-22d903434461"
      },
      "execution_count": 69,
      "outputs": [
        {
          "output_type": "execute_result",
          "data": {
            "text/plain": [
              "65.36768692064922"
            ]
          },
          "metadata": {},
          "execution_count": 69
        }
      ]
    },
    {
      "cell_type": "code",
      "source": [
        "### Plotting \n",
        "# shift train predictions for plotting\n",
        "look_back=70\n",
        "trainPredictPlot = numpy.empty_like(data1)\n",
        "trainPredictPlot[:, :] = np.nan\n",
        "trainPredictPlot[look_back:len(train_predict)+look_back, :] = train_predict\n",
        "# shift test predictions for plotting\n",
        "testPredictPlot = numpy.empty_like(data1)\n",
        "testPredictPlot[:, :] = numpy.nan\n",
        "testPredictPlot[len(train_predict)+(look_back*2)+1:len(data1)-1, :] = test_predict\n",
        "# plot baseline and predictions\n",
        "plt.plot(scalar.inverse_transform(data1))\n",
        "plt.plot(trainPredictPlot)\n",
        "plt.plot(testPredictPlot)\n",
        "plt.show()"
      ],
      "metadata": {
        "colab": {
          "base_uri": "https://localhost:8080/",
          "height": 265
        },
        "id": "qgLqO-lmW1Q3",
        "outputId": "23516bdc-b79d-474d-f875-fe866ec6b367"
      },
      "execution_count": 72,
      "outputs": [
        {
          "output_type": "display_data",
          "data": {
            "text/plain": [
              "<Figure size 432x288 with 1 Axes>"
            ],
            "image/png": "[encoded data removed]"
          },
          "metadata": {
            "needs_background": "light"
          }
        }
      ]
    },
    {
      "cell_type": "markdown",
      "source": [
        "##Observatin\n",
        "- The Orange line for train data output\n",
        "- The Green line is for test data output\n"
      ],
      "metadata": {
        "id": "4f9cN_0ucc48"
      }
    },
    {
      "cell_type": "markdown",
      "source": [
        "#Now lets predict future 30 days output"
      ],
      "metadata": {
        "id": "8ElW2FPEdGG2"
      }
    },
    {
      "cell_type": "code",
      "source": [
        "len(test_data)"
      ],
      "metadata": {
        "colab": {
          "base_uri": "https://localhost:8080/"
        },
        "id": "6n4Yu1kedDhm",
        "outputId": "40d525f1-2b86-4253-85ab-f9bb4a251b15"
      },
      "execution_count": 73,
      "outputs": [
        {
          "output_type": "execute_result",
          "data": {
            "text/plain": [
              "83"
            ]
          },
          "metadata": {},
          "execution_count": 73
        }
      ]
    },
    {
      "cell_type": "code",
      "source": [
        "# in this im taking '3:' because my test size is 83 so i want to predict next value with 70 refrence\n",
        "x_input=test_data[13:].reshape(1,-1) # 83-13 = 70\n",
        "x_input.shape"
      ],
      "metadata": {
        "colab": {
          "base_uri": "https://localhost:8080/"
        },
        "id": "scrZnjaJddaS",
        "outputId": "c1c64072-3272-4574-8ab0-ccacce279e91"
      },
      "execution_count": 105,
      "outputs": [
        {
          "output_type": "execute_result",
          "data": {
            "text/plain": [
              "(1, 70)"
            ]
          },
          "metadata": {},
          "execution_count": 105
        }
      ]
    },
    {
      "cell_type": "code",
      "source": [
        "temp_input=list(x_input)\n",
        "temp_input=temp_input[0].tolist()"
      ],
      "metadata": {
        "id": "O22qgIrQejbl"
      },
      "execution_count": 106,
      "outputs": []
    },
    {
      "cell_type": "code",
      "source": [
        "temp_input"
      ],
      "metadata": {
        "colab": {
          "base_uri": "https://localhost:8080/"
        },
        "id": "FxlJtdEhelPv",
        "outputId": "618d5892-6421-4f27-8e25-8d3519d29a2a"
      },
      "execution_count": 107,
      "outputs": [
        {
          "output_type": "execute_result",
          "data": {
            "text/plain": [
              "[0.2658052480727329,\n",
              " 0.2621134943355003,\n",
              " 0.26442083161947755,\n",
              " 0.2556529781061027,\n",
              " 0.2422703796104277,\n",
              " 0.30549147752287825,\n",
              " 0.2801107673991296,\n",
              " 0.29856946567094683,\n",
              " 0.3165666683202302,\n",
              " 0.2948777119337142,\n",
              " 0.30087680295492397,\n",
              " 0.281956609060573,\n",
              " 0.2902630373657599,\n",
              " 0.2999538117098564,\n",
              " 0.27272725992466434,\n",
              " 0.2948777119337142,\n",
              " 0.28564836279780564,\n",
              " 0.26303641516622206,\n",
              " 0.26165206912731237,\n",
              " 0.26626674369526676,\n",
              " 0.2699584270181535,\n",
              " 0.2473465498009158,\n",
              " 0.2551914824835689,\n",
              " 0.22058142322391167,\n",
              " 0.20212272495209443,\n",
              " 0.18274110584955555,\n",
              " 0.1619750702937613,\n",
              " 0.11536682899168454,\n",
              " 0.08491001909179369,\n",
              " 0.07891092807058392,\n",
              " 0.04430086881092671,\n",
              " 0.00461467456795428,\n",
              " 0.020766035555794315,\n",
              " 0.0,\n",
              " 0.04522378964164836,\n",
              " 0.041070610696227805,\n",
              " 0.038763273412250665,\n",
              " 0.06275956708274383,\n",
              " 0.03137976593778541,\n",
              " 0.05629901564617329,\n",
              " 0.04706966651026473,\n",
              " 0.11998150355963882,\n",
              " 0.09552374947378478,\n",
              " 0.07844946765522304,\n",
              " 0.09321641218980764,\n",
              " 0.17628058962015786,\n",
              " 0.2095062324265597,\n",
              " 0.20996765763474762,\n",
              " 0.18458694751099897,\n",
              " 0.18643285958678818,\n",
              " 0.1656668240309938,\n",
              " 0.12413475291940518,\n",
              " 0.14028611390724527,\n",
              " 0.15459156281929604,\n",
              " 0.157360395725807,\n",
              " 0.14351637202194406,\n",
              " 0.16658974486171557,\n",
              " 0.168435586523159,\n",
              " 0.1407475391154332,\n",
              " 0.1393631930765235,\n",
              " 0.12044299918217255,\n",
              " 0.13013384394061495,\n",
              " 0.1444392928526657,\n",
              " 0.16243656591629502,\n",
              " 0.17120441942966985,\n",
              " 0.12828793186482573,\n",
              " 0.07706505120196766,\n",
              " 0.04937700379424187,\n",
              " 0.017535742233922513,\n",
              " 0.038763273412250665]"
            ]
          },
          "metadata": {},
          "execution_count": 107
        }
      ]
    },
    {
      "cell_type": "code",
      "source": [
        "# demonstrate prediction for next 10 days\n",
        "from numpy import array\n",
        "\n",
        "lst_output=[]\n",
        "n_steps=70\n",
        "i=0\n",
        "while(i<30):\n",
        "    \n",
        "    if(len(temp_input)>70):\n",
        "        #print(temp_input)\n",
        "        x_input=np.array(temp_input[1:])\n",
        "        print(\"{} day input {}\".format(i,x_input))\n",
        "        x_input=x_input.reshape(1,-1)\n",
        "        x_input = x_input.reshape((1, n_steps, 1))\n",
        "        #print(x_input)\n",
        "        yhat = model.predict(x_input, verbose=0)\n",
        "        print(\"{} day output {}\".format(i,yhat))\n",
        "        temp_input.extend(yhat[0].tolist())\n",
        "        temp_input=temp_input[1:]\n",
        "        #print(temp_input)\n",
        "        lst_output.extend(yhat.tolist())\n",
        "        i=i+1\n",
        "    else:\n",
        "        x_input = x_input.reshape((1, n_steps,1))\n",
        "        yhat = model.predict(x_input, verbose=0)\n",
        "        print(yhat[0])\n",
        "        temp_input.extend(yhat[0].tolist())\n",
        "        print(len(temp_input))\n",
        "        lst_output.extend(yhat.tolist())\n",
        "        i=i+1\n",
        "    \n",
        "\n",
        "print(lst_output)"
      ],
      "metadata": {
        "colab": {
          "base_uri": "https://localhost:8080/"
        },
        "id": "AjijbDxxesGD",
        "outputId": "ab90fe36-43d6-4d21-a18f-d70f65f6e800"
      },
      "execution_count": 108,
      "outputs": [
        {
          "output_type": "stream",
          "name": "stdout",
          "text": [
            "[0.09855837]\n",
            "71\n",
            "1 day input [0.26211349 0.26442083 0.25565298 0.24227038 0.30549148 0.28011077\n",
            " 0.29856947 0.31656667 0.29487771 0.3008768  0.28195661 0.29026304\n",
            " 0.29995381 0.27272726 0.29487771 0.28564836 0.26303642 0.26165207\n",
            " 0.26626674 0.26995843 0.24734655 0.25519148 0.22058142 0.20212272\n",
            " 0.18274111 0.16197507 0.11536683 0.08491002 0.07891093 0.04430087\n",
            " 0.00461467 0.02076604 0.         0.04522379 0.04107061 0.03876327\n",
            " 0.06275957 0.03137977 0.05629902 0.04706967 0.1199815  0.09552375\n",
            " 0.07844947 0.09321641 0.17628059 0.20950623 0.20996766 0.18458695\n",
            " 0.18643286 0.16566682 0.12413475 0.14028611 0.15459156 0.1573604\n",
            " 0.14351637 0.16658974 0.16843559 0.14074754 0.13936319 0.120443\n",
            " 0.13013384 0.14443929 0.16243657 0.17120442 0.12828793 0.07706505\n",
            " 0.049377   0.01753574 0.03876327 0.09855837]\n",
            "1 day output [[0.08987468]]\n",
            "2 day input [0.26442083 0.25565298 0.24227038 0.30549148 0.28011077 0.29856947\n",
            " 0.31656667 0.29487771 0.3008768  0.28195661 0.29026304 0.29995381\n",
            " 0.27272726 0.29487771 0.28564836 0.26303642 0.26165207 0.26626674\n",
            " 0.26995843 0.24734655 0.25519148 0.22058142 0.20212272 0.18274111\n",
            " 0.16197507 0.11536683 0.08491002 0.07891093 0.04430087 0.00461467\n",
            " 0.02076604 0.         0.04522379 0.04107061 0.03876327 0.06275957\n",
            " 0.03137977 0.05629902 0.04706967 0.1199815  0.09552375 0.07844947\n",
            " 0.09321641 0.17628059 0.20950623 0.20996766 0.18458695 0.18643286\n",
            " 0.16566682 0.12413475 0.14028611 0.15459156 0.1573604  0.14351637\n",
            " 0.16658974 0.16843559 0.14074754 0.13936319 0.120443   0.13013384\n",
            " 0.14443929 0.16243657 0.17120442 0.12828793 0.07706505 0.049377\n",
            " 0.01753574 0.03876327 0.09855837 0.08987468]\n",
            "2 day output [[0.08204851]]\n",
            "3 day input [0.25565298 0.24227038 0.30549148 0.28011077 0.29856947 0.31656667\n",
            " 0.29487771 0.3008768  0.28195661 0.29026304 0.29995381 0.27272726\n",
            " 0.29487771 0.28564836 0.26303642 0.26165207 0.26626674 0.26995843\n",
            " 0.24734655 0.25519148 0.22058142 0.20212272 0.18274111 0.16197507\n",
            " 0.11536683 0.08491002 0.07891093 0.04430087 0.00461467 0.02076604\n",
            " 0.         0.04522379 0.04107061 0.03876327 0.06275957 0.03137977\n",
            " 0.05629902 0.04706967 0.1199815  0.09552375 0.07844947 0.09321641\n",
            " 0.17628059 0.20950623 0.20996766 0.18458695 0.18643286 0.16566682\n",
            " 0.12413475 0.14028611 0.15459156 0.1573604  0.14351637 0.16658974\n",
            " 0.16843559 0.14074754 0.13936319 0.120443   0.13013384 0.14443929\n",
            " 0.16243657 0.17120442 0.12828793 0.07706505 0.049377   0.01753574\n",
            " 0.03876327 0.09855837 0.08987468 0.08204851]\n",
            "3 day output [[0.07535112]]\n",
            "4 day input [0.24227038 0.30549148 0.28011077 0.29856947 0.31656667 0.29487771\n",
            " 0.3008768  0.28195661 0.29026304 0.29995381 0.27272726 0.29487771\n",
            " 0.28564836 0.26303642 0.26165207 0.26626674 0.26995843 0.24734655\n",
            " 0.25519148 0.22058142 0.20212272 0.18274111 0.16197507 0.11536683\n",
            " 0.08491002 0.07891093 0.04430087 0.00461467 0.02076604 0.\n",
            " 0.04522379 0.04107061 0.03876327 0.06275957 0.03137977 0.05629902\n",
            " 0.04706967 0.1199815  0.09552375 0.07844947 0.09321641 0.17628059\n",
            " 0.20950623 0.20996766 0.18458695 0.18643286 0.16566682 0.12413475\n",
            " 0.14028611 0.15459156 0.1573604  0.14351637 0.16658974 0.16843559\n",
            " 0.14074754 0.13936319 0.120443   0.13013384 0.14443929 0.16243657\n",
            " 0.17120442 0.12828793 0.07706505 0.049377   0.01753574 0.03876327\n",
            " 0.09855837 0.08987468 0.08204851 0.07535112]\n",
            "4 day output [[0.06974696]]\n",
            "5 day input [0.30549148 0.28011077 0.29856947 0.31656667 0.29487771 0.3008768\n",
            " 0.28195661 0.29026304 0.29995381 0.27272726 0.29487771 0.28564836\n",
            " 0.26303642 0.26165207 0.26626674 0.26995843 0.24734655 0.25519148\n",
            " 0.22058142 0.20212272 0.18274111 0.16197507 0.11536683 0.08491002\n",
            " 0.07891093 0.04430087 0.00461467 0.02076604 0.         0.04522379\n",
            " 0.04107061 0.03876327 0.06275957 0.03137977 0.05629902 0.04706967\n",
            " 0.1199815  0.09552375 0.07844947 0.09321641 0.17628059 0.20950623\n",
            " 0.20996766 0.18458695 0.18643286 0.16566682 0.12413475 0.14028611\n",
            " 0.15459156 0.1573604  0.14351637 0.16658974 0.16843559 0.14074754\n",
            " 0.13936319 0.120443   0.13013384 0.14443929 0.16243657 0.17120442\n",
            " 0.12828793 0.07706505 0.049377   0.01753574 0.03876327 0.09855837\n",
            " 0.08987468 0.08204851 0.07535112 0.06974696]\n",
            "5 day output [[0.06506502]]\n",
            "6 day input [0.28011077 0.29856947 0.31656667 0.29487771 0.3008768  0.28195661\n",
            " 0.29026304 0.29995381 0.27272726 0.29487771 0.28564836 0.26303642\n",
            " 0.26165207 0.26626674 0.26995843 0.24734655 0.25519148 0.22058142\n",
            " 0.20212272 0.18274111 0.16197507 0.11536683 0.08491002 0.07891093\n",
            " 0.04430087 0.00461467 0.02076604 0.         0.04522379 0.04107061\n",
            " 0.03876327 0.06275957 0.03137977 0.05629902 0.04706967 0.1199815\n",
            " 0.09552375 0.07844947 0.09321641 0.17628059 0.20950623 0.20996766\n",
            " 0.18458695 0.18643286 0.16566682 0.12413475 0.14028611 0.15459156\n",
            " 0.1573604  0.14351637 0.16658974 0.16843559 0.14074754 0.13936319\n",
            " 0.120443   0.13013384 0.14443929 0.16243657 0.17120442 0.12828793\n",
            " 0.07706505 0.049377   0.01753574 0.03876327 0.09855837 0.08987468\n",
            " 0.08204851 0.07535112 0.06974696 0.06506502]\n",
            "6 day output [[0.06109814]]\n",
            "7 day input [0.29856947 0.31656667 0.29487771 0.3008768  0.28195661 0.29026304\n",
            " 0.29995381 0.27272726 0.29487771 0.28564836 0.26303642 0.26165207\n",
            " 0.26626674 0.26995843 0.24734655 0.25519148 0.22058142 0.20212272\n",
            " 0.18274111 0.16197507 0.11536683 0.08491002 0.07891093 0.04430087\n",
            " 0.00461467 0.02076604 0.         0.04522379 0.04107061 0.03876327\n",
            " 0.06275957 0.03137977 0.05629902 0.04706967 0.1199815  0.09552375\n",
            " 0.07844947 0.09321641 0.17628059 0.20950623 0.20996766 0.18458695\n",
            " 0.18643286 0.16566682 0.12413475 0.14028611 0.15459156 0.1573604\n",
            " 0.14351637 0.16658974 0.16843559 0.14074754 0.13936319 0.120443\n",
            " 0.13013384 0.14443929 0.16243657 0.17120442 0.12828793 0.07706505\n",
            " 0.049377   0.01753574 0.03876327 0.09855837 0.08987468 0.08204851\n",
            " 0.07535112 0.06974696 0.06506502 0.06109814]\n",
            "7 day output [[0.05765392]]\n",
            "8 day input [0.31656667 0.29487771 0.3008768  0.28195661 0.29026304 0.29995381\n",
            " 0.27272726 0.29487771 0.28564836 0.26303642 0.26165207 0.26626674\n",
            " 0.26995843 0.24734655 0.25519148 0.22058142 0.20212272 0.18274111\n",
            " 0.16197507 0.11536683 0.08491002 0.07891093 0.04430087 0.00461467\n",
            " 0.02076604 0.         0.04522379 0.04107061 0.03876327 0.06275957\n",
            " 0.03137977 0.05629902 0.04706967 0.1199815  0.09552375 0.07844947\n",
            " 0.09321641 0.17628059 0.20950623 0.20996766 0.18458695 0.18643286\n",
            " 0.16566682 0.12413475 0.14028611 0.15459156 0.1573604  0.14351637\n",
            " 0.16658974 0.16843559 0.14074754 0.13936319 0.120443   0.13013384\n",
            " 0.14443929 0.16243657 0.17120442 0.12828793 0.07706505 0.049377\n",
            " 0.01753574 0.03876327 0.09855837 0.08987468 0.08204851 0.07535112\n",
            " 0.06974696 0.06506502 0.06109814 0.05765392]\n",
            "8 day output [[0.05457599]]\n",
            "9 day input [0.29487771 0.3008768  0.28195661 0.29026304 0.29995381 0.27272726\n",
            " 0.29487771 0.28564836 0.26303642 0.26165207 0.26626674 0.26995843\n",
            " 0.24734655 0.25519148 0.22058142 0.20212272 0.18274111 0.16197507\n",
            " 0.11536683 0.08491002 0.07891093 0.04430087 0.00461467 0.02076604\n",
            " 0.         0.04522379 0.04107061 0.03876327 0.06275957 0.03137977\n",
            " 0.05629902 0.04706967 0.1199815  0.09552375 0.07844947 0.09321641\n",
            " 0.17628059 0.20950623 0.20996766 0.18458695 0.18643286 0.16566682\n",
            " 0.12413475 0.14028611 0.15459156 0.1573604  0.14351637 0.16658974\n",
            " 0.16843559 0.14074754 0.13936319 0.120443   0.13013384 0.14443929\n",
            " 0.16243657 0.17120442 0.12828793 0.07706505 0.049377   0.01753574\n",
            " 0.03876327 0.09855837 0.08987468 0.08204851 0.07535112 0.06974696\n",
            " 0.06506502 0.06109814 0.05765392 0.05457599]\n",
            "9 day output [[0.05174793]]\n",
            "10 day input [0.3008768  0.28195661 0.29026304 0.29995381 0.27272726 0.29487771\n",
            " 0.28564836 0.26303642 0.26165207 0.26626674 0.26995843 0.24734655\n",
            " 0.25519148 0.22058142 0.20212272 0.18274111 0.16197507 0.11536683\n",
            " 0.08491002 0.07891093 0.04430087 0.00461467 0.02076604 0.\n",
            " 0.04522379 0.04107061 0.03876327 0.06275957 0.03137977 0.05629902\n",
            " 0.04706967 0.1199815  0.09552375 0.07844947 0.09321641 0.17628059\n",
            " 0.20950623 0.20996766 0.18458695 0.18643286 0.16566682 0.12413475\n",
            " 0.14028611 0.15459156 0.1573604  0.14351637 0.16658974 0.16843559\n",
            " 0.14074754 0.13936319 0.120443   0.13013384 0.14443929 0.16243657\n",
            " 0.17120442 0.12828793 0.07706505 0.049377   0.01753574 0.03876327\n",
            " 0.09855837 0.08987468 0.08204851 0.07535112 0.06974696 0.06506502\n",
            " 0.06109814 0.05765392 0.05457599 0.05174793]\n",
            "10 day output [[0.04908894]]\n",
            "11 day input [0.28195661 0.29026304 0.29995381 0.27272726 0.29487771 0.28564836\n",
            " 0.26303642 0.26165207 0.26626674 0.26995843 0.24734655 0.25519148\n",
            " 0.22058142 0.20212272 0.18274111 0.16197507 0.11536683 0.08491002\n",
            " 0.07891093 0.04430087 0.00461467 0.02076604 0.         0.04522379\n",
            " 0.04107061 0.03876327 0.06275957 0.03137977 0.05629902 0.04706967\n",
            " 0.1199815  0.09552375 0.07844947 0.09321641 0.17628059 0.20950623\n",
            " 0.20996766 0.18458695 0.18643286 0.16566682 0.12413475 0.14028611\n",
            " 0.15459156 0.1573604  0.14351637 0.16658974 0.16843559 0.14074754\n",
            " 0.13936319 0.120443   0.13013384 0.14443929 0.16243657 0.17120442\n",
            " 0.12828793 0.07706505 0.049377   0.01753574 0.03876327 0.09855837\n",
            " 0.08987468 0.08204851 0.07535112 0.06974696 0.06506502 0.06109814\n",
            " 0.05765392 0.05457599 0.05174793 0.04908894]\n",
            "11 day output [[0.04654657]]\n",
            "12 day input [0.29026304 0.29995381 0.27272726 0.29487771 0.28564836 0.26303642\n",
            " 0.26165207 0.26626674 0.26995843 0.24734655 0.25519148 0.22058142\n",
            " 0.20212272 0.18274111 0.16197507 0.11536683 0.08491002 0.07891093\n",
            " 0.04430087 0.00461467 0.02076604 0.         0.04522379 0.04107061\n",
            " 0.03876327 0.06275957 0.03137977 0.05629902 0.04706967 0.1199815\n",
            " 0.09552375 0.07844947 0.09321641 0.17628059 0.20950623 0.20996766\n",
            " 0.18458695 0.18643286 0.16566682 0.12413475 0.14028611 0.15459156\n",
            " 0.1573604  0.14351637 0.16658974 0.16843559 0.14074754 0.13936319\n",
            " 0.120443   0.13013384 0.14443929 0.16243657 0.17120442 0.12828793\n",
            " 0.07706505 0.049377   0.01753574 0.03876327 0.09855837 0.08987468\n",
            " 0.08204851 0.07535112 0.06974696 0.06506502 0.06109814 0.05765392\n",
            " 0.05457599 0.05174793 0.04908894 0.04654657]\n",
            "12 day output [[0.0440888]]\n",
            "13 day input [0.29995381 0.27272726 0.29487771 0.28564836 0.26303642 0.26165207\n",
            " 0.26626674 0.26995843 0.24734655 0.25519148 0.22058142 0.20212272\n",
            " 0.18274111 0.16197507 0.11536683 0.08491002 0.07891093 0.04430087\n",
            " 0.00461467 0.02076604 0.         0.04522379 0.04107061 0.03876327\n",
            " 0.06275957 0.03137977 0.05629902 0.04706967 0.1199815  0.09552375\n",
            " 0.07844947 0.09321641 0.17628059 0.20950623 0.20996766 0.18458695\n",
            " 0.18643286 0.16566682 0.12413475 0.14028611 0.15459156 0.1573604\n",
            " 0.14351637 0.16658974 0.16843559 0.14074754 0.13936319 0.120443\n",
            " 0.13013384 0.14443929 0.16243657 0.17120442 0.12828793 0.07706505\n",
            " 0.049377   0.01753574 0.03876327 0.09855837 0.08987468 0.08204851\n",
            " 0.07535112 0.06974696 0.06506502 0.06109814 0.05765392 0.05457599\n",
            " 0.05174793 0.04908894 0.04654657 0.0440888 ]\n",
            "13 day output [[0.04169754]]\n",
            "14 day input [0.27272726 0.29487771 0.28564836 0.26303642 0.26165207 0.26626674\n",
            " 0.26995843 0.24734655 0.25519148 0.22058142 0.20212272 0.18274111\n",
            " 0.16197507 0.11536683 0.08491002 0.07891093 0.04430087 0.00461467\n",
            " 0.02076604 0.         0.04522379 0.04107061 0.03876327 0.06275957\n",
            " 0.03137977 0.05629902 0.04706967 0.1199815  0.09552375 0.07844947\n",
            " 0.09321641 0.17628059 0.20950623 0.20996766 0.18458695 0.18643286\n",
            " 0.16566682 0.12413475 0.14028611 0.15459156 0.1573604  0.14351637\n",
            " 0.16658974 0.16843559 0.14074754 0.13936319 0.120443   0.13013384\n",
            " 0.14443929 0.16243657 0.17120442 0.12828793 0.07706505 0.049377\n",
            " 0.01753574 0.03876327 0.09855837 0.08987468 0.08204851 0.07535112\n",
            " 0.06974696 0.06506502 0.06109814 0.05765392 0.05457599 0.05174793\n",
            " 0.04908894 0.04654657 0.0440888  0.04169754]\n",
            "14 day output [[0.03936342]]\n",
            "15 day input [0.29487771 0.28564836 0.26303642 0.26165207 0.26626674 0.26995843\n",
            " 0.24734655 0.25519148 0.22058142 0.20212272 0.18274111 0.16197507\n",
            " 0.11536683 0.08491002 0.07891093 0.04430087 0.00461467 0.02076604\n",
            " 0.         0.04522379 0.04107061 0.03876327 0.06275957 0.03137977\n",
            " 0.05629902 0.04706967 0.1199815  0.09552375 0.07844947 0.09321641\n",
            " 0.17628059 0.20950623 0.20996766 0.18458695 0.18643286 0.16566682\n",
            " 0.12413475 0.14028611 0.15459156 0.1573604  0.14351637 0.16658974\n",
            " 0.16843559 0.14074754 0.13936319 0.120443   0.13013384 0.14443929\n",
            " 0.16243657 0.17120442 0.12828793 0.07706505 0.049377   0.01753574\n",
            " 0.03876327 0.09855837 0.08987468 0.08204851 0.07535112 0.06974696\n",
            " 0.06506502 0.06109814 0.05765392 0.05457599 0.05174793 0.04908894\n",
            " 0.04654657 0.0440888  0.04169754 0.03936342]\n",
            "15 day output [[0.03708211]]\n",
            "16 day input [0.28564836 0.26303642 0.26165207 0.26626674 0.26995843 0.24734655\n",
            " 0.25519148 0.22058142 0.20212272 0.18274111 0.16197507 0.11536683\n",
            " 0.08491002 0.07891093 0.04430087 0.00461467 0.02076604 0.\n",
            " 0.04522379 0.04107061 0.03876327 0.06275957 0.03137977 0.05629902\n",
            " 0.04706967 0.1199815  0.09552375 0.07844947 0.09321641 0.17628059\n",
            " 0.20950623 0.20996766 0.18458695 0.18643286 0.16566682 0.12413475\n",
            " 0.14028611 0.15459156 0.1573604  0.14351637 0.16658974 0.16843559\n",
            " 0.14074754 0.13936319 0.120443   0.13013384 0.14443929 0.16243657\n",
            " 0.17120442 0.12828793 0.07706505 0.049377   0.01753574 0.03876327\n",
            " 0.09855837 0.08987468 0.08204851 0.07535112 0.06974696 0.06506502\n",
            " 0.06109814 0.05765392 0.05457599 0.05174793 0.04908894 0.04654657\n",
            " 0.0440888  0.04169754 0.03936342 0.03708211]\n",
            "16 day output [[0.03485204]]\n",
            "17 day input [0.26303642 0.26165207 0.26626674 0.26995843 0.24734655 0.25519148\n",
            " 0.22058142 0.20212272 0.18274111 0.16197507 0.11536683 0.08491002\n",
            " 0.07891093 0.04430087 0.00461467 0.02076604 0.         0.04522379\n",
            " 0.04107061 0.03876327 0.06275957 0.03137977 0.05629902 0.04706967\n",
            " 0.1199815  0.09552375 0.07844947 0.09321641 0.17628059 0.20950623\n",
            " 0.20996766 0.18458695 0.18643286 0.16566682 0.12413475 0.14028611\n",
            " 0.15459156 0.1573604  0.14351637 0.16658974 0.16843559 0.14074754\n",
            " 0.13936319 0.120443   0.13013384 0.14443929 0.16243657 0.17120442\n",
            " 0.12828793 0.07706505 0.049377   0.01753574 0.03876327 0.09855837\n",
            " 0.08987468 0.08204851 0.07535112 0.06974696 0.06506502 0.06109814\n",
            " 0.05765392 0.05457599 0.05174793 0.04908894 0.04654657 0.0440888\n",
            " 0.04169754 0.03936342 0.03708211 0.03485204]\n",
            "17 day output [[0.03267273]]\n",
            "18 day input [0.26165207 0.26626674 0.26995843 0.24734655 0.25519148 0.22058142\n",
            " 0.20212272 0.18274111 0.16197507 0.11536683 0.08491002 0.07891093\n",
            " 0.04430087 0.00461467 0.02076604 0.         0.04522379 0.04107061\n",
            " 0.03876327 0.06275957 0.03137977 0.05629902 0.04706967 0.1199815\n",
            " 0.09552375 0.07844947 0.09321641 0.17628059 0.20950623 0.20996766\n",
            " 0.18458695 0.18643286 0.16566682 0.12413475 0.14028611 0.15459156\n",
            " 0.1573604  0.14351637 0.16658974 0.16843559 0.14074754 0.13936319\n",
            " 0.120443   0.13013384 0.14443929 0.16243657 0.17120442 0.12828793\n",
            " 0.07706505 0.049377   0.01753574 0.03876327 0.09855837 0.08987468\n",
            " 0.08204851 0.07535112 0.06974696 0.06506502 0.06109814 0.05765392\n",
            " 0.05457599 0.05174793 0.04908894 0.04654657 0.0440888  0.04169754\n",
            " 0.03936342 0.03708211 0.03485204 0.03267273]\n",
            "18 day output [[0.03054409]]\n",
            "19 day input [0.26626674 0.26995843 0.24734655 0.25519148 0.22058142 0.20212272\n",
            " 0.18274111 0.16197507 0.11536683 0.08491002 0.07891093 0.04430087\n",
            " 0.00461467 0.02076604 0.         0.04522379 0.04107061 0.03876327\n",
            " 0.06275957 0.03137977 0.05629902 0.04706967 0.1199815  0.09552375\n",
            " 0.07844947 0.09321641 0.17628059 0.20950623 0.20996766 0.18458695\n",
            " 0.18643286 0.16566682 0.12413475 0.14028611 0.15459156 0.1573604\n",
            " 0.14351637 0.16658974 0.16843559 0.14074754 0.13936319 0.120443\n",
            " 0.13013384 0.14443929 0.16243657 0.17120442 0.12828793 0.07706505\n",
            " 0.049377   0.01753574 0.03876327 0.09855837 0.08987468 0.08204851\n",
            " 0.07535112 0.06974696 0.06506502 0.06109814 0.05765392 0.05457599\n",
            " 0.05174793 0.04908894 0.04654657 0.0440888  0.04169754 0.03936342\n",
            " 0.03708211 0.03485204 0.03267273 0.03054409]\n",
            "19 day output [[0.02846598]]\n",
            "20 day input [0.26995843 0.24734655 0.25519148 0.22058142 0.20212272 0.18274111\n",
            " 0.16197507 0.11536683 0.08491002 0.07891093 0.04430087 0.00461467\n",
            " 0.02076604 0.         0.04522379 0.04107061 0.03876327 0.06275957\n",
            " 0.03137977 0.05629902 0.04706967 0.1199815  0.09552375 0.07844947\n",
            " 0.09321641 0.17628059 0.20950623 0.20996766 0.18458695 0.18643286\n",
            " 0.16566682 0.12413475 0.14028611 0.15459156 0.1573604  0.14351637\n",
            " 0.16658974 0.16843559 0.14074754 0.13936319 0.120443   0.13013384\n",
            " 0.14443929 0.16243657 0.17120442 0.12828793 0.07706505 0.049377\n",
            " 0.01753574 0.03876327 0.09855837 0.08987468 0.08204851 0.07535112\n",
            " 0.06974696 0.06506502 0.06109814 0.05765392 0.05457599 0.05174793\n",
            " 0.04908894 0.04654657 0.0440888  0.04169754 0.03936342 0.03708211\n",
            " 0.03485204 0.03267273 0.03054409 0.02846598]\n",
            "20 day output [[0.02643804]]\n",
            "21 day input [0.24734655 0.25519148 0.22058142 0.20212272 0.18274111 0.16197507\n",
            " 0.11536683 0.08491002 0.07891093 0.04430087 0.00461467 0.02076604\n",
            " 0.         0.04522379 0.04107061 0.03876327 0.06275957 0.03137977\n",
            " 0.05629902 0.04706967 0.1199815  0.09552375 0.07844947 0.09321641\n",
            " 0.17628059 0.20950623 0.20996766 0.18458695 0.18643286 0.16566682\n",
            " 0.12413475 0.14028611 0.15459156 0.1573604  0.14351637 0.16658974\n",
            " 0.16843559 0.14074754 0.13936319 0.120443   0.13013384 0.14443929\n",
            " 0.16243657 0.17120442 0.12828793 0.07706505 0.049377   0.01753574\n",
            " 0.03876327 0.09855837 0.08987468 0.08204851 0.07535112 0.06974696\n",
            " 0.06506502 0.06109814 0.05765392 0.05457599 0.05174793 0.04908894\n",
            " 0.04654657 0.0440888  0.04169754 0.03936342 0.03708211 0.03485204\n",
            " 0.03267273 0.03054409 0.02846598 0.02643804]\n",
            "21 day output [[0.02445963]]\n",
            "22 day input [0.25519148 0.22058142 0.20212272 0.18274111 0.16197507 0.11536683\n",
            " 0.08491002 0.07891093 0.04430087 0.00461467 0.02076604 0.\n",
            " 0.04522379 0.04107061 0.03876327 0.06275957 0.03137977 0.05629902\n",
            " 0.04706967 0.1199815  0.09552375 0.07844947 0.09321641 0.17628059\n",
            " 0.20950623 0.20996766 0.18458695 0.18643286 0.16566682 0.12413475\n",
            " 0.14028611 0.15459156 0.1573604  0.14351637 0.16658974 0.16843559\n",
            " 0.14074754 0.13936319 0.120443   0.13013384 0.14443929 0.16243657\n",
            " 0.17120442 0.12828793 0.07706505 0.049377   0.01753574 0.03876327\n",
            " 0.09855837 0.08987468 0.08204851 0.07535112 0.06974696 0.06506502\n",
            " 0.06109814 0.05765392 0.05457599 0.05174793 0.04908894 0.04654657\n",
            " 0.0440888  0.04169754 0.03936342 0.03708211 0.03485204 0.03267273\n",
            " 0.03054409 0.02846598 0.02643804 0.02445963]\n",
            "22 day output [[0.02252989]]\n",
            "23 day input [0.22058142 0.20212272 0.18274111 0.16197507 0.11536683 0.08491002\n",
            " 0.07891093 0.04430087 0.00461467 0.02076604 0.         0.04522379\n",
            " 0.04107061 0.03876327 0.06275957 0.03137977 0.05629902 0.04706967\n",
            " 0.1199815  0.09552375 0.07844947 0.09321641 0.17628059 0.20950623\n",
            " 0.20996766 0.18458695 0.18643286 0.16566682 0.12413475 0.14028611\n",
            " 0.15459156 0.1573604  0.14351637 0.16658974 0.16843559 0.14074754\n",
            " 0.13936319 0.120443   0.13013384 0.14443929 0.16243657 0.17120442\n",
            " 0.12828793 0.07706505 0.049377   0.01753574 0.03876327 0.09855837\n",
            " 0.08987468 0.08204851 0.07535112 0.06974696 0.06506502 0.06109814\n",
            " 0.05765392 0.05457599 0.05174793 0.04908894 0.04654657 0.0440888\n",
            " 0.04169754 0.03936342 0.03708211 0.03485204 0.03267273 0.03054409\n",
            " 0.02846598 0.02643804 0.02445963 0.02252989]\n",
            "23 day output [[0.02064783]]\n",
            "24 day input [0.20212272 0.18274111 0.16197507 0.11536683 0.08491002 0.07891093\n",
            " 0.04430087 0.00461467 0.02076604 0.         0.04522379 0.04107061\n",
            " 0.03876327 0.06275957 0.03137977 0.05629902 0.04706967 0.1199815\n",
            " 0.09552375 0.07844947 0.09321641 0.17628059 0.20950623 0.20996766\n",
            " 0.18458695 0.18643286 0.16566682 0.12413475 0.14028611 0.15459156\n",
            " 0.1573604  0.14351637 0.16658974 0.16843559 0.14074754 0.13936319\n",
            " 0.120443   0.13013384 0.14443929 0.16243657 0.17120442 0.12828793\n",
            " 0.07706505 0.049377   0.01753574 0.03876327 0.09855837 0.08987468\n",
            " 0.08204851 0.07535112 0.06974696 0.06506502 0.06109814 0.05765392\n",
            " 0.05457599 0.05174793 0.04908894 0.04654657 0.0440888  0.04169754\n",
            " 0.03936342 0.03708211 0.03485204 0.03267273 0.03054409 0.02846598\n",
            " 0.02643804 0.02445963 0.02252989 0.02064783]\n",
            "24 day output [[0.0188124]]\n",
            "25 day input [0.18274111 0.16197507 0.11536683 0.08491002 0.07891093 0.04430087\n",
            " 0.00461467 0.02076604 0.         0.04522379 0.04107061 0.03876327\n",
            " 0.06275957 0.03137977 0.05629902 0.04706967 0.1199815  0.09552375\n",
            " 0.07844947 0.09321641 0.17628059 0.20950623 0.20996766 0.18458695\n",
            " 0.18643286 0.16566682 0.12413475 0.14028611 0.15459156 0.1573604\n",
            " 0.14351637 0.16658974 0.16843559 0.14074754 0.13936319 0.120443\n",
            " 0.13013384 0.14443929 0.16243657 0.17120442 0.12828793 0.07706505\n",
            " 0.049377   0.01753574 0.03876327 0.09855837 0.08987468 0.08204851\n",
            " 0.07535112 0.06974696 0.06506502 0.06109814 0.05765392 0.05457599\n",
            " 0.05174793 0.04908894 0.04654657 0.0440888  0.04169754 0.03936342\n",
            " 0.03708211 0.03485204 0.03267273 0.03054409 0.02846598 0.02643804\n",
            " 0.02445963 0.02252989 0.02064783 0.0188124 ]\n",
            "25 day output [[0.01702246]]\n",
            "26 day input [0.16197507 0.11536683 0.08491002 0.07891093 0.04430087 0.00461467\n",
            " 0.02076604 0.         0.04522379 0.04107061 0.03876327 0.06275957\n",
            " 0.03137977 0.05629902 0.04706967 0.1199815  0.09552375 0.07844947\n",
            " 0.09321641 0.17628059 0.20950623 0.20996766 0.18458695 0.18643286\n",
            " 0.16566682 0.12413475 0.14028611 0.15459156 0.1573604  0.14351637\n",
            " 0.16658974 0.16843559 0.14074754 0.13936319 0.120443   0.13013384\n",
            " 0.14443929 0.16243657 0.17120442 0.12828793 0.07706505 0.049377\n",
            " 0.01753574 0.03876327 0.09855837 0.08987468 0.08204851 0.07535112\n",
            " 0.06974696 0.06506502 0.06109814 0.05765392 0.05457599 0.05174793\n",
            " 0.04908894 0.04654657 0.0440888  0.04169754 0.03936342 0.03708211\n",
            " 0.03485204 0.03267273 0.03054409 0.02846598 0.02643804 0.02445963\n",
            " 0.02252989 0.02064783 0.0188124  0.01702246]\n",
            "26 day output [[0.01527689]]\n",
            "27 day input [0.11536683 0.08491002 0.07891093 0.04430087 0.00461467 0.02076604\n",
            " 0.         0.04522379 0.04107061 0.03876327 0.06275957 0.03137977\n",
            " 0.05629902 0.04706967 0.1199815  0.09552375 0.07844947 0.09321641\n",
            " 0.17628059 0.20950623 0.20996766 0.18458695 0.18643286 0.16566682\n",
            " 0.12413475 0.14028611 0.15459156 0.1573604  0.14351637 0.16658974\n",
            " 0.16843559 0.14074754 0.13936319 0.120443   0.13013384 0.14443929\n",
            " 0.16243657 0.17120442 0.12828793 0.07706505 0.049377   0.01753574\n",
            " 0.03876327 0.09855837 0.08987468 0.08204851 0.07535112 0.06974696\n",
            " 0.06506502 0.06109814 0.05765392 0.05457599 0.05174793 0.04908894\n",
            " 0.04654657 0.0440888  0.04169754 0.03936342 0.03708211 0.03485204\n",
            " 0.03267273 0.03054409 0.02846598 0.02643804 0.02445963 0.02252989\n",
            " 0.02064783 0.0188124  0.01702246 0.01527689]\n",
            "27 day output [[0.01357462]]\n",
            "28 day input [0.08491002 0.07891093 0.04430087 0.00461467 0.02076604 0.\n",
            " 0.04522379 0.04107061 0.03876327 0.06275957 0.03137977 0.05629902\n",
            " 0.04706967 0.1199815  0.09552375 0.07844947 0.09321641 0.17628059\n",
            " 0.20950623 0.20996766 0.18458695 0.18643286 0.16566682 0.12413475\n",
            " 0.14028611 0.15459156 0.1573604  0.14351637 0.16658974 0.16843559\n",
            " 0.14074754 0.13936319 0.120443   0.13013384 0.14443929 0.16243657\n",
            " 0.17120442 0.12828793 0.07706505 0.049377   0.01753574 0.03876327\n",
            " 0.09855837 0.08987468 0.08204851 0.07535112 0.06974696 0.06506502\n",
            " 0.06109814 0.05765392 0.05457599 0.05174793 0.04908894 0.04654657\n",
            " 0.0440888  0.04169754 0.03936342 0.03708211 0.03485204 0.03267273\n",
            " 0.03054409 0.02846598 0.02643804 0.02445963 0.02252989 0.02064783\n",
            " 0.0188124  0.01702246 0.01527689 0.01357462]\n",
            "28 day output [[0.01191454]]\n",
            "29 day input [0.07891093 0.04430087 0.00461467 0.02076604 0.         0.04522379\n",
            " 0.04107061 0.03876327 0.06275957 0.03137977 0.05629902 0.04706967\n",
            " 0.1199815  0.09552375 0.07844947 0.09321641 0.17628059 0.20950623\n",
            " 0.20996766 0.18458695 0.18643286 0.16566682 0.12413475 0.14028611\n",
            " 0.15459156 0.1573604  0.14351637 0.16658974 0.16843559 0.14074754\n",
            " 0.13936319 0.120443   0.13013384 0.14443929 0.16243657 0.17120442\n",
            " 0.12828793 0.07706505 0.049377   0.01753574 0.03876327 0.09855837\n",
            " 0.08987468 0.08204851 0.07535112 0.06974696 0.06506502 0.06109814\n",
            " 0.05765392 0.05457599 0.05174793 0.04908894 0.04654657 0.0440888\n",
            " 0.04169754 0.03936342 0.03708211 0.03485204 0.03267273 0.03054409\n",
            " 0.02846598 0.02643804 0.02445963 0.02252989 0.02064783 0.0188124\n",
            " 0.01702246 0.01527689 0.01357462 0.01191454]\n",
            "29 day output [[0.01029566]]\n",
            "[[0.09855836629867554], [0.08987468481063843], [0.08204850554466248], [0.07535111904144287], [0.0697469636797905], [0.06506501883268356], [0.061098143458366394], [0.05765392258763313], [0.05457599088549614], [0.05174792557954788], [0.049088940024375916], [0.0465465672314167], [0.04408879578113556], [0.04169753938913345], [0.039363421499729156], [0.03708210960030556], [0.034852035343647], [0.03267272934317589], [0.030544091016054153], [0.028465984389185905], [0.026438042521476746], [0.024459633976221085], [0.02252989262342453], [0.020647834986448288], [0.018812399357557297], [0.017022456973791122], [0.015276893973350525], [0.013574618846178055], [0.011914543807506561], [0.010295658372342587]]\n"
          ]
        }
      ]
    },
    {
      "cell_type": "code",
      "source": [
        "day_new=np.arange(1,71)\n",
        "day_pred=np.arange(71,101)"
      ],
      "metadata": {
        "id": "KNrzMGLMgneb"
      },
      "execution_count": 109,
      "outputs": []
    },
    {
      "cell_type": "code",
      "source": [
        "import matplotlib.pyplot as plt"
      ],
      "metadata": {
        "id": "MTLH1r0wifa7"
      },
      "execution_count": 110,
      "outputs": []
    },
    {
      "cell_type": "code",
      "source": [
        "len(data1)"
      ],
      "metadata": {
        "colab": {
          "base_uri": "https://localhost:8080/"
        },
        "id": "ifv9KEJBiiKb",
        "outputId": "767740d0-9cfc-4f01-cc27-a34d5a8661b7"
      },
      "execution_count": 111,
      "outputs": [
        {
          "output_type": "execute_result",
          "data": {
            "text/plain": [
              "235"
            ]
          },
          "metadata": {},
          "execution_count": 111
        }
      ]
    },
    {
      "cell_type": "code",
      "source": [
        "# The next 30 days prediction we can see in orange color\n",
        "plt.plot(day_new,scalar.inverse_transform(data1[165:]))\n",
        "plt.plot(day_pred,scalar.inverse_transform(lst_output))"
      ],
      "metadata": {
        "colab": {
          "base_uri": "https://localhost:8080/",
          "height": 282
        },
        "id": "I8Y2p2Asioke",
        "outputId": "f13e36b7-f17c-4588-f99d-f5cfa121c84a"
      },
      "execution_count": 112,
      "outputs": [
        {
          "output_type": "execute_result",
          "data": {
            "text/plain": [
              "[<matplotlib.lines.Line2D at 0x7fb8478996d0>]"
            ]
          },
          "metadata": {},
          "execution_count": 112
        },
        {
          "output_type": "display_data",
          "data": {
            "text/plain": [
              "<Figure size 432x288 with 1 Axes>"
            ],
            "image/png": "[encoded data removed]"
          },
          "metadata": {
            "needs_background": "light"
          }
        }
      ]
    },
    {
      "cell_type": "code",
      "source": [
        "# When we combine prediction value with Present it look like this\n",
        "data2=data1.tolist()\n",
        "data2.extend(lst_output)\n",
        "plt.plot(data2[210:])"
      ],
      "metadata": {
        "colab": {
          "base_uri": "https://localhost:8080/",
          "height": 282
        },
        "id": "SEDLIIgIjXCZ",
        "outputId": "a5086319-7611-4f45-8d63-6fa85e95640c"
      },
      "execution_count": 113,
      "outputs": [
        {
          "output_type": "execute_result",
          "data": {
            "text/plain": [
              "[<matplotlib.lines.Line2D at 0x7fb848c21550>]"
            ]
          },
          "metadata": {},
          "execution_count": 113
        },
        {
          "output_type": "display_data",
          "data": {
            "text/plain": [
              "<Figure size 432x288 with 1 Axes>"
            ],
            "image/png": "[encoded data removed]"
          },
          "metadata": {
            "needs_background": "light"
          }
        }
      ]
    },
    {
      "cell_type": "code",
      "source": [
        "plt.plot(data2)"
      ],
      "metadata": {
        "colab": {
          "base_uri": "https://localhost:8080/",
          "height": 282
        },
        "id": "X97smi8rksJd",
        "outputId": "256171e7-68a1-4c6a-be36-bf848de776ef"
      },
      "execution_count": 114,
      "outputs": [
        {
          "output_type": "execute_result",
          "data": {
            "text/plain": [
              "[<matplotlib.lines.Line2D at 0x7fb847ff0f50>]"
            ]
          },
          "metadata": {},
          "execution_count": 114
        },
        {
          "output_type": "display_data",
          "data": {
            "text/plain": [
              "<Figure size 432x288 with 1 Axes>"
            ],
            "image/png": "[encoded data removed]"
          },
          "metadata": {
            "needs_background": "light"
          }
        }
      ]
    }
  ]
}